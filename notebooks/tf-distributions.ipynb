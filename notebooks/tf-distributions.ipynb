{
 "cells": [
  {
   "cell_type": "code",
   "execution_count": 2,
   "metadata": {
    "ExecuteTime": {
     "end_time": "2021-06-25T13:18:19.484512Z",
     "start_time": "2021-06-25T13:18:19.153977Z"
    }
   },
   "outputs": [],
   "source": [
    "import tensorflow as tf\n",
    "import tensorflow_probability as tfp"
   ]
  },
  {
   "cell_type": "markdown",
   "metadata": {},
   "source": [
    "# Intro: Basics"
   ]
  },
  {
   "cell_type": "code",
   "execution_count": 3,
   "metadata": {
    "ExecuteTime": {
     "end_time": "2021-06-25T13:19:09.596411Z",
     "start_time": "2021-06-25T13:19:09.591666Z"
    }
   },
   "outputs": [],
   "source": [
    "tfd = tfp.distributions"
   ]
  },
  {
   "cell_type": "code",
   "execution_count": 28,
   "metadata": {
    "ExecuteTime": {
     "end_time": "2021-06-25T13:33:53.371404Z",
     "start_time": "2021-06-25T13:33:53.363811Z"
    }
   },
   "outputs": [
    {
     "data": {
      "text/plain": [
       "(TensorShape([]), TensorShape([]))"
      ]
     },
     "execution_count": 28,
     "metadata": {},
     "output_type": "execute_result"
    }
   ],
   "source": [
    "normal = tfd.Normal(loc=0., scale=1.)\n",
    "\n",
    "# for univariate, which normal is, the event_shape~=0\n",
    "normal.event_shape, normal.batch_shape"
   ]
  },
  {
   "cell_type": "code",
   "execution_count": 29,
   "metadata": {
    "ExecuteTime": {
     "end_time": "2021-06-25T13:33:53.616268Z",
     "start_time": "2021-06-25T13:33:53.589771Z"
    }
   },
   "outputs": [
    {
     "data": {
      "text/plain": [
       "<tf.Tensor: id=261, shape=(), dtype=float32, numpy=0.35131043>"
      ]
     },
     "execution_count": 29,
     "metadata": {},
     "output_type": "execute_result"
    }
   ],
   "source": [
    "# returns a scalar\n",
    "normal.sample()"
   ]
  },
  {
   "cell_type": "code",
   "execution_count": 30,
   "metadata": {
    "ExecuteTime": {
     "end_time": "2021-06-25T13:33:53.792407Z",
     "start_time": "2021-06-25T13:33:53.762505Z"
    }
   },
   "outputs": [
    {
     "data": {
      "text/plain": [
       "<tf.Tensor: id=284, shape=(3,), dtype=float32, numpy=array([-0.02607801, -0.18549882, -1.3968619 ], dtype=float32)>"
      ]
     },
     "execution_count": 30,
     "metadata": {},
     "output_type": "execute_result"
    }
   ],
   "source": [
    "# returns a list of scalars of size\n",
    "normal.sample(3)"
   ]
  },
  {
   "cell_type": "code",
   "execution_count": 31,
   "metadata": {
    "ExecuteTime": {
     "end_time": "2021-06-25T13:33:53.973714Z",
     "start_time": "2021-06-25T13:33:53.943351Z"
    }
   },
   "outputs": [
    {
     "data": {
      "text/plain": [
       "(<tf.Tensor: id=295, shape=(), dtype=float32, numpy=0.24197073>,\n",
       " <tf.Tensor: id=305, shape=(), dtype=float32, numpy=-1.4189385>)"
      ]
     },
     "execution_count": 31,
     "metadata": {},
     "output_type": "execute_result"
    }
   ],
   "source": [
    "# returns a pdf at x\n",
    "normal.prob(1), normal.log_prob(1)"
   ]
  },
  {
   "cell_type": "code",
   "execution_count": 36,
   "metadata": {
    "ExecuteTime": {
     "end_time": "2021-06-25T13:35:16.188961Z",
     "start_time": "2021-06-25T13:35:16.178530Z"
    }
   },
   "outputs": [
    {
     "data": {
      "text/plain": [
       "(<tfp.distributions.Bernoulli 'Bernoulli' batch_shape=[] event_shape=[] dtype=int32>,\n",
       " <tfp.distributions.Bernoulli 'Bernoulli' batch_shape=[] event_shape=[] dtype=int32>)"
      ]
     },
     "execution_count": 36,
     "metadata": {},
     "output_type": "execute_result"
    }
   ],
   "source": [
    "# for discrete\n",
    "bernoulli = tfd.Bernoulli(probs=0.50)\n",
    "logbernoulli = tfd.Bernoulli(logits=0.50)\n",
    "\n",
    "# \n",
    "bernoulli, logbernoulli"
   ]
  },
  {
   "cell_type": "code",
   "execution_count": 38,
   "metadata": {
    "ExecuteTime": {
     "end_time": "2021-06-25T13:35:26.618958Z",
     "start_time": "2021-06-25T13:35:26.572562Z"
    }
   },
   "outputs": [
    {
     "data": {
      "text/plain": [
       "(<tf.Tensor: id=493, shape=(5,), dtype=int32, numpy=array([0, 1, 0, 0, 1], dtype=int32)>,\n",
       " <tf.Tensor: id=516, shape=(5,), dtype=int32, numpy=array([0, 1, 0, 0, 1], dtype=int32)>)"
      ]
     },
     "execution_count": 38,
     "metadata": {},
     "output_type": "execute_result"
    }
   ],
   "source": [
    "# sampling for discrete is same, but return type is different as it can only be 0/1.\n",
    "\n",
    "bernoulli.sample(5), logbernoulli.sample(5)"
   ]
  },
  {
   "cell_type": "code",
   "execution_count": 42,
   "metadata": {
    "ExecuteTime": {
     "end_time": "2021-06-25T13:38:18.248840Z",
     "start_time": "2021-06-25T13:38:18.240464Z"
    }
   },
   "outputs": [
    {
     "data": {
      "text/plain": [
       "(<tfp.distributions.Bernoulli 'Bernoulli' batch_shape=[3] event_shape=[] dtype=int32>,\n",
       " <tfp.distributions.Bernoulli 'Bernoulli' batch_shape=[3] event_shape=[] dtype=int32>)"
      ]
     },
     "execution_count": 42,
     "metadata": {},
     "output_type": "execute_result"
    }
   ],
   "source": [
    "# batch of distributions -> collection of separate distributions batched into a single tfd object.\n",
    "batched_bernoulli = tfd.Bernoulli(probs=[0.25,0.5,0.75])\n",
    "batched_logbernoulli = tfd.Bernoulli(logits=[0.25,0.5,0.75])\n",
    "\n",
    "batched_bernoulli, batched_logbernoulli"
   ]
  },
  {
   "cell_type": "code",
   "execution_count": 44,
   "metadata": {
    "ExecuteTime": {
     "end_time": "2021-06-25T13:40:19.790025Z",
     "start_time": "2021-06-25T13:40:19.766270Z"
    }
   },
   "outputs": [
    {
     "data": {
      "text/plain": [
       "<tf.Tensor: id=570, shape=(5, 3), dtype=int32, numpy=\n",
       "array([[0, 1, 1],\n",
       "       [0, 0, 1],\n",
       "       [1, 0, 0],\n",
       "       [1, 1, 1],\n",
       "       [0, 1, 1]], dtype=int32)>"
      ]
     },
     "execution_count": 44,
     "metadata": {},
     "output_type": "execute_result"
    }
   ],
   "source": [
    "# sampling on batched -> will give separate samplings instead of one list, we get batchsized lists\n",
    "\n",
    "batched_bernoulli.sample(5) # (row:SAMPLE_SIZE(SAMPLE), col:BATCH_SIZE(BATCH))"
   ]
  },
  {
   "cell_type": "markdown",
   "metadata": {},
   "source": [
    "# Distributions: Getting Familiar"
   ]
  },
  {
   "cell_type": "code",
   "execution_count": 47,
   "metadata": {
    "ExecuteTime": {
     "end_time": "2021-06-25T13:44:30.510071Z",
     "start_time": "2021-06-25T13:44:30.159308Z"
    }
   },
   "outputs": [
    {
     "name": "stdout",
     "output_type": "stream",
     "text": [
      "tf_VERSION:2.0.0\n",
      "tfp_VERSION:0.8.0-rc0\n"
     ]
    }
   ],
   "source": [
    "print(f'tf_VERSION:{tf.__version__}')\n",
    "print(f'tfp_VERSION:{tfp.__version__}')\n",
    "\n",
    "import matplotlib.pyplot as plt\n",
    "import numpy as np\n",
    "tf.random.set_seed(42)"
   ]
  },
  {
   "cell_type": "markdown",
   "metadata": {},
   "source": [
    "## Univariates"
   ]
  },
  {
   "cell_type": "code",
   "execution_count": null,
   "metadata": {
    "ExecuteTime": {
     "start_time": "2021-06-25T13:47:57.508Z"
    }
   },
   "outputs": [
    {
     "data": {
      "text/plain": [
       "(array([[0., 0., 0., ..., 0., 0., 0.],\n",
       "        [0., 0., 0., ..., 0., 0., 0.],\n",
       "        [0., 0., 0., ..., 0., 0., 0.],\n",
       "        ...,\n",
       "        [0., 0., 0., ..., 0., 0., 0.],\n",
       "        [0., 0., 0., ..., 0., 0., 0.],\n",
       "        [0., 0., 0., ..., 0., 0., 0.]]),\n",
       " array([-3.5352588 , -3.4682345 , -3.40121   , -3.3341858 , -3.2671614 ,\n",
       "        -3.2001371 , -3.1331127 , -3.0660884 , -2.999064  , -2.9320397 ,\n",
       "        -2.8650153 , -2.797991  , -2.7309666 , -2.6639423 , -2.596918  ,\n",
       "        -2.5298936 , -2.4628694 , -2.395845  , -2.3288207 , -2.2617962 ,\n",
       "        -2.194772  , -2.1277475 , -2.0607233 , -1.993699  , -1.9266746 ,\n",
       "        -1.8596503 , -1.7926259 , -1.7256016 , -1.6585772 , -1.5915529 ,\n",
       "        -1.5245285 , -1.4575042 , -1.3904799 , -1.3234556 , -1.2564312 ,\n",
       "        -1.1894069 , -1.1223825 , -1.0553582 , -0.9883338 , -0.9213095 ,\n",
       "        -0.8542851 , -0.78726083, -0.7202365 , -0.65321213, -0.5861878 ,\n",
       "        -0.5191634 , -0.4521391 , -0.38511476, -0.3180904 , -0.2510661 ,\n",
       "        -0.18404174, -0.1170174 , -0.04999306,  0.01703128,  0.08405562,\n",
       "         0.15107997,  0.2181043 ,  0.28512865,  0.35215297,  0.41917732,\n",
       "         0.48620167,  0.553226  ,  0.62025034,  0.6872747 ,  0.75429904,\n",
       "         0.8213234 ,  0.8883477 ,  0.95537204,  1.0223964 ,  1.0894207 ,\n",
       "         1.156445  ,  1.2234694 ,  1.2904937 ,  1.3575181 ,  1.4245424 ,\n",
       "         1.4915668 ,  1.5585911 ,  1.6256155 ,  1.6926398 ,  1.7596642 ,\n",
       "         1.8266885 ,  1.8937129 ,  1.9607371 ,  2.0277615 ,  2.094786  ,\n",
       "         2.1618102 ,  2.2288346 ,  2.2958589 ,  2.362883  ,  2.4299076 ,\n",
       "         2.4969318 ,  2.5639563 ,  2.6309805 ,  2.698005  ,  2.7650292 ,\n",
       "         2.8320537 ,  2.899078  ,  2.9661024 ,  3.0331266 ,  3.100151  ,\n",
       "         3.1671753 ], dtype=float32),\n",
       " <a list of 1000 BarContainer objects>)"
      ]
     },
     "execution_count": 50,
     "metadata": {},
     "output_type": "execute_result"
    }
   ],
   "source": [
    "# Continuous (Why CPU's suck for this)\n",
    "normal = tfd.Normal(loc=0, scale=1)\n",
    "plt.hist(normal.sample(1000), bins=100, density=True)"
   ]
  },
  {
   "cell_type": "code",
   "execution_count": null,
   "metadata": {
    "ExecuteTime": {
     "start_time": "2021-06-25T13:49:33.311Z"
    }
   },
   "outputs": [],
   "source": [
    "# Continuous\n",
    "expo = tfd.Exponential(rate=1) (loc=0, scale=1)\n",
    "plt.hist(expo.sample(1000), bins=100, density=True)"
   ]
  }
 ],
 "metadata": {
  "kernelspec": {
   "display_name": "Python 3.8.5 Conda(tflow)",
   "language": "python",
   "name": "python3.7.10"
  },
  "language_info": {
   "codemirror_mode": {
    "name": "ipython",
    "version": 3
   },
   "file_extension": ".py",
   "mimetype": "text/x-python",
   "name": "python",
   "nbconvert_exporter": "python",
   "pygments_lexer": "ipython3",
   "version": "3.7.10"
  },
  "toc": {
   "base_numbering": 1,
   "nav_menu": {},
   "number_sections": true,
   "sideBar": true,
   "skip_h1_title": false,
   "title_cell": "Table of Contents",
   "title_sidebar": "Contents",
   "toc_cell": false,
   "toc_position": {},
   "toc_section_display": true,
   "toc_window_display": false
  }
 },
 "nbformat": 4,
 "nbformat_minor": 1
}
